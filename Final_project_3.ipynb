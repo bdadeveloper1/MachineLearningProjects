{
  "nbformat": 4,
  "nbformat_minor": 0,
  "metadata": {
    "kernelspec": {
      "display_name": "Python 3",
      "language": "python",
      "name": "python3"
    },
    "language_info": {
      "codemirror_mode": {
        "name": "ipython",
        "version": 3
      },
      "file_extension": ".py",
      "mimetype": "text/x-python",
      "name": "python",
      "nbconvert_exporter": "python",
      "pygments_lexer": "ipython3",
      "version": "3.7.6"
    },
    "colab": {
      "name": "Final_project_3.ipynb",
      "provenance": [],
      "include_colab_link": true
    }
  },
  "cells": [
    {
      "cell_type": "markdown",
      "metadata": {
        "id": "view-in-github",
        "colab_type": "text"
      },
      "source": [
        "<a href=\"https://colab.research.google.com/github/bdadeveloper1/MachineLearningProjects/blob/main/Final_project_3.ipynb\" target=\"_parent\"><img src=\"https://colab.research.google.com/assets/colab-badge.svg\" alt=\"Open In Colab\"/></a>"
      ]
    },
    {
      "cell_type": "markdown",
      "metadata": {
        "id": "rHwLSjjqYAuz"
      },
      "source": [
        "#CSE 708: Data Analytics & Engineering Applications\n",
        "#North Carolina A & T State University\n",
        "#Final Class Project\n",
        "#Intelligent System for Skin Image Classification using Machine Learning\n",
        "By Brandon Oppong-Antwi\n"
      ]
    },
    {
      "cell_type": "code",
      "metadata": {
        "id": "0OSQcOpCXyis",
        "colab": {
          "base_uri": "https://localhost:8080/"
        },
        "outputId": "ee1df6b0-5569-4095-d703-dd63adaacbcb"
      },
      "source": [
        "!pip install sklearn"
      ],
      "execution_count": null,
      "outputs": [
        {
          "output_type": "stream",
          "name": "stdout",
          "text": [
            "Requirement already satisfied: sklearn in /usr/local/lib/python3.7/dist-packages (0.0)\n",
            "Requirement already satisfied: scikit-learn in /usr/local/lib/python3.7/dist-packages (from sklearn) (1.0.1)\n",
            "Requirement already satisfied: scipy>=1.1.0 in /usr/local/lib/python3.7/dist-packages (from scikit-learn->sklearn) (1.4.1)\n",
            "Requirement already satisfied: threadpoolctl>=2.0.0 in /usr/local/lib/python3.7/dist-packages (from scikit-learn->sklearn) (3.0.0)\n",
            "Requirement already satisfied: numpy>=1.14.6 in /usr/local/lib/python3.7/dist-packages (from scikit-learn->sklearn) (1.19.5)\n",
            "Requirement already satisfied: joblib>=0.11 in /usr/local/lib/python3.7/dist-packages (from scikit-learn->sklearn) (1.1.0)\n"
          ]
        }
      ]
    },
    {
      "cell_type": "markdown",
      "metadata": {
        "id": "J0q8k-iuZ7Qe"
      },
      "source": [
        "Important Notes on Installations used for Model\n",
        "\n",
        "Python Version: Python 3.8.3\n",
        "\n",
        "Tensorflow Version: Tensorflow 2.3.0\n",
        "\n",
        "Pytorch Version Pytorch 1.6.0 with CUDA 101\n",
        "\n",
        "Operation System: Windows 10"
      ]
    },
    {
      "cell_type": "code",
      "metadata": {
        "id": "nBs3KOsSXVOp"
      },
      "source": [
        "import numpy as np\n",
        "import pandas as pd\n",
        "import matplotlib.pyplot as plt\n",
        "%matplotlib inline\n",
        "import seaborn as sns"
      ],
      "execution_count": null,
      "outputs": []
    },
    {
      "cell_type": "code",
      "metadata": {
        "id": "OI5qxAo8XVOq"
      },
      "source": [
        "from sklearn.model_selection import train_test_split\n",
        "from sklearn.neighbors import KNeighborsClassifier\n",
        "from sklearn.metrics import classification_report, confusion_matrix"
      ],
      "execution_count": null,
      "outputs": []
    },
    {
      "cell_type": "code",
      "metadata": {
        "scrolled": false,
        "colab": {
          "base_uri": "https://localhost:8080/",
          "height": 206
        },
        "id": "t4Qb-hNOXVOr",
        "outputId": "854351e7-572c-4d17-a6e8-4040a616fc21"
      },
      "source": [
        "# Read csv file from data frame from txt file\n",
        "skin = pd.read_csv(\"Skin_NonSkin.txt\", delimiter=\"\\t\", names=(\"R\", \"G\", \"B\", \"skin_nonskin\")) # 1=nonSkin , 2=skin\n",
        "skin.tail() #used"
      ],
      "execution_count": null,
      "outputs": [
        {
          "output_type": "execute_result",
          "data": {
            "text/html": [
              "<div>\n",
              "<style scoped>\n",
              "    .dataframe tbody tr th:only-of-type {\n",
              "        vertical-align: middle;\n",
              "    }\n",
              "\n",
              "    .dataframe tbody tr th {\n",
              "        vertical-align: top;\n",
              "    }\n",
              "\n",
              "    .dataframe thead th {\n",
              "        text-align: right;\n",
              "    }\n",
              "</style>\n",
              "<table border=\"1\" class=\"dataframe\">\n",
              "  <thead>\n",
              "    <tr style=\"text-align: right;\">\n",
              "      <th></th>\n",
              "      <th>R</th>\n",
              "      <th>G</th>\n",
              "      <th>B</th>\n",
              "      <th>skin_nonskin</th>\n",
              "    </tr>\n",
              "  </thead>\n",
              "  <tbody>\n",
              "    <tr>\n",
              "      <th>245052</th>\n",
              "      <td>163</td>\n",
              "      <td>162</td>\n",
              "      <td>112</td>\n",
              "      <td>2</td>\n",
              "    </tr>\n",
              "    <tr>\n",
              "      <th>245053</th>\n",
              "      <td>163</td>\n",
              "      <td>162</td>\n",
              "      <td>112</td>\n",
              "      <td>2</td>\n",
              "    </tr>\n",
              "    <tr>\n",
              "      <th>245054</th>\n",
              "      <td>163</td>\n",
              "      <td>162</td>\n",
              "      <td>112</td>\n",
              "      <td>2</td>\n",
              "    </tr>\n",
              "    <tr>\n",
              "      <th>245055</th>\n",
              "      <td>163</td>\n",
              "      <td>162</td>\n",
              "      <td>112</td>\n",
              "      <td>2</td>\n",
              "    </tr>\n",
              "    <tr>\n",
              "      <th>245056</th>\n",
              "      <td>255</td>\n",
              "      <td>255</td>\n",
              "      <td>255</td>\n",
              "      <td>2</td>\n",
              "    </tr>\n",
              "  </tbody>\n",
              "</table>\n",
              "</div>"
            ],
            "text/plain": [
              "          R    G    B  skin_nonskin\n",
              "245052  163  162  112             2\n",
              "245053  163  162  112             2\n",
              "245054  163  162  112             2\n",
              "245055  163  162  112             2\n",
              "245056  255  255  255             2"
            ]
          },
          "metadata": {},
          "execution_count": 71
        }
      ]
    },
    {
      "cell_type": "code",
      "metadata": {
        "id": "waPW_UZlXVOs"
      },
      "source": [
        "# replace values in skin_nonskin column for interpretability\n",
        "for i in skin[\"skin_nonskin\"]: # skin = 0 , non-skin = 1\n",
        "    if i == 2:\n",
        "        skin.replace(to_replace=[2], value=[0], inplace=True) "
      ],
      "execution_count": null,
      "outputs": []
    },
    {
      "cell_type": "code",
      "metadata": {
        "colab": {
          "base_uri": "https://localhost:8080/",
          "height": 206
        },
        "id": "GF-QnjKTXVOs",
        "outputId": "1fa49b8d-57ef-4dec-c581-fffe2047fdea"
      },
      "source": [
        "skin.tail()"
      ],
      "execution_count": null,
      "outputs": [
        {
          "output_type": "execute_result",
          "data": {
            "text/html": [
              "<div>\n",
              "<style scoped>\n",
              "    .dataframe tbody tr th:only-of-type {\n",
              "        vertical-align: middle;\n",
              "    }\n",
              "\n",
              "    .dataframe tbody tr th {\n",
              "        vertical-align: top;\n",
              "    }\n",
              "\n",
              "    .dataframe thead th {\n",
              "        text-align: right;\n",
              "    }\n",
              "</style>\n",
              "<table border=\"1\" class=\"dataframe\">\n",
              "  <thead>\n",
              "    <tr style=\"text-align: right;\">\n",
              "      <th></th>\n",
              "      <th>R</th>\n",
              "      <th>G</th>\n",
              "      <th>B</th>\n",
              "      <th>skin_nonskin</th>\n",
              "    </tr>\n",
              "  </thead>\n",
              "  <tbody>\n",
              "    <tr>\n",
              "      <th>245052</th>\n",
              "      <td>163</td>\n",
              "      <td>162</td>\n",
              "      <td>112</td>\n",
              "      <td>0</td>\n",
              "    </tr>\n",
              "    <tr>\n",
              "      <th>245053</th>\n",
              "      <td>163</td>\n",
              "      <td>162</td>\n",
              "      <td>112</td>\n",
              "      <td>0</td>\n",
              "    </tr>\n",
              "    <tr>\n",
              "      <th>245054</th>\n",
              "      <td>163</td>\n",
              "      <td>162</td>\n",
              "      <td>112</td>\n",
              "      <td>0</td>\n",
              "    </tr>\n",
              "    <tr>\n",
              "      <th>245055</th>\n",
              "      <td>163</td>\n",
              "      <td>162</td>\n",
              "      <td>112</td>\n",
              "      <td>0</td>\n",
              "    </tr>\n",
              "    <tr>\n",
              "      <th>245056</th>\n",
              "      <td>255</td>\n",
              "      <td>255</td>\n",
              "      <td>255</td>\n",
              "      <td>0</td>\n",
              "    </tr>\n",
              "  </tbody>\n",
              "</table>\n",
              "</div>"
            ],
            "text/plain": [
              "          R    G    B  skin_nonskin\n",
              "245052  163  162  112             0\n",
              "245053  163  162  112             0\n",
              "245054  163  162  112             0\n",
              "245055  163  162  112             0\n",
              "245056  255  255  255             0"
            ]
          },
          "metadata": {},
          "execution_count": 73
        }
      ]
    },
    {
      "cell_type": "code",
      "metadata": {
        "scrolled": true,
        "colab": {
          "base_uri": "https://localhost:8080/"
        },
        "id": "CUdd_0LPXVOt",
        "outputId": "d2c21e7c-43c3-4f39-e60b-7375146e90ba"
      },
      "source": [
        "skin['skin_nonskin'].value_counts()"
      ],
      "execution_count": null,
      "outputs": [
        {
          "output_type": "execute_result",
          "data": {
            "text/plain": [
              "0    194198\n",
              "1     50859\n",
              "Name: skin_nonskin, dtype: int64"
            ]
          },
          "metadata": {},
          "execution_count": 74
        }
      ]
    },
    {
      "cell_type": "code",
      "metadata": {
        "colab": {
          "base_uri": "https://localhost:8080/"
        },
        "id": "-7IrYbQzXVOt",
        "outputId": "b1bfa86d-2341-4085-e3db-7724f96d2b10"
      },
      "source": [
        "len(skin)"
      ],
      "execution_count": null,
      "outputs": [
        {
          "output_type": "execute_result",
          "data": {
            "text/plain": [
              "245057"
            ]
          },
          "metadata": {},
          "execution_count": 75
        }
      ]
    },
    {
      "cell_type": "code",
      "metadata": {
        "colab": {
          "base_uri": "https://localhost:8080/",
          "height": 300
        },
        "id": "fBmm4omnXVOu",
        "outputId": "045e36ea-f06b-4602-8dd7-89375e650015"
      },
      "source": [
        "skin.describe()"
      ],
      "execution_count": null,
      "outputs": [
        {
          "output_type": "execute_result",
          "data": {
            "text/html": [
              "<div>\n",
              "<style scoped>\n",
              "    .dataframe tbody tr th:only-of-type {\n",
              "        vertical-align: middle;\n",
              "    }\n",
              "\n",
              "    .dataframe tbody tr th {\n",
              "        vertical-align: top;\n",
              "    }\n",
              "\n",
              "    .dataframe thead th {\n",
              "        text-align: right;\n",
              "    }\n",
              "</style>\n",
              "<table border=\"1\" class=\"dataframe\">\n",
              "  <thead>\n",
              "    <tr style=\"text-align: right;\">\n",
              "      <th></th>\n",
              "      <th>R</th>\n",
              "      <th>G</th>\n",
              "      <th>B</th>\n",
              "      <th>skin_nonskin</th>\n",
              "    </tr>\n",
              "  </thead>\n",
              "  <tbody>\n",
              "    <tr>\n",
              "      <th>count</th>\n",
              "      <td>245057.000000</td>\n",
              "      <td>245057.000000</td>\n",
              "      <td>245057.000000</td>\n",
              "      <td>245057.000000</td>\n",
              "    </tr>\n",
              "    <tr>\n",
              "      <th>mean</th>\n",
              "      <td>125.055008</td>\n",
              "      <td>132.498953</td>\n",
              "      <td>123.163284</td>\n",
              "      <td>0.207539</td>\n",
              "    </tr>\n",
              "    <tr>\n",
              "      <th>std</th>\n",
              "      <td>62.276451</td>\n",
              "      <td>59.959565</td>\n",
              "      <td>72.585507</td>\n",
              "      <td>0.405546</td>\n",
              "    </tr>\n",
              "    <tr>\n",
              "      <th>min</th>\n",
              "      <td>0.000000</td>\n",
              "      <td>0.000000</td>\n",
              "      <td>0.000000</td>\n",
              "      <td>0.000000</td>\n",
              "    </tr>\n",
              "    <tr>\n",
              "      <th>25%</th>\n",
              "      <td>68.000000</td>\n",
              "      <td>87.000000</td>\n",
              "      <td>70.000000</td>\n",
              "      <td>0.000000</td>\n",
              "    </tr>\n",
              "    <tr>\n",
              "      <th>50%</th>\n",
              "      <td>139.000000</td>\n",
              "      <td>153.000000</td>\n",
              "      <td>128.000000</td>\n",
              "      <td>0.000000</td>\n",
              "    </tr>\n",
              "    <tr>\n",
              "      <th>75%</th>\n",
              "      <td>176.000000</td>\n",
              "      <td>177.000000</td>\n",
              "      <td>164.000000</td>\n",
              "      <td>0.000000</td>\n",
              "    </tr>\n",
              "    <tr>\n",
              "      <th>max</th>\n",
              "      <td>255.000000</td>\n",
              "      <td>255.000000</td>\n",
              "      <td>255.000000</td>\n",
              "      <td>1.000000</td>\n",
              "    </tr>\n",
              "  </tbody>\n",
              "</table>\n",
              "</div>"
            ],
            "text/plain": [
              "                   R              G              B   skin_nonskin\n",
              "count  245057.000000  245057.000000  245057.000000  245057.000000\n",
              "mean      125.055008     132.498953     123.163284       0.207539\n",
              "std        62.276451      59.959565      72.585507       0.405546\n",
              "min         0.000000       0.000000       0.000000       0.000000\n",
              "25%        68.000000      87.000000      70.000000       0.000000\n",
              "50%       139.000000     153.000000     128.000000       0.000000\n",
              "75%       176.000000     177.000000     164.000000       0.000000\n",
              "max       255.000000     255.000000     255.000000       1.000000"
            ]
          },
          "metadata": {},
          "execution_count": 76
        }
      ]
    },
    {
      "cell_type": "markdown",
      "metadata": {
        "id": "0gHcfaAlXVOu"
      },
      "source": [
        "## Phase 2- Pre-Processing and Data Visualization:"
      ]
    },
    {
      "cell_type": "code",
      "metadata": {
        "scrolled": false,
        "colab": {
          "base_uri": "https://localhost:8080/",
          "height": 405
        },
        "id": "PAlqHNXYXVOw",
        "outputId": "333b1fda-7b6c-4b59-aeee-f09e136965b9"
      },
      "source": [
        "# bar plot for B values\n",
        "plt.figure(figsize=(10,6))\n",
        "skin[skin[\"skin_nonskin\"]==1][\"B\"].hist(alpha=0.5, color=\"blue\", bins=30, label=\"nonskin=1\" )\n",
        "skin[skin[\"skin_nonskin\"]==0][\"B\"].hist(alpha=0.5, color=\"red\", bins=30, label=\"skin=0\" )\n",
        "plt.legend()\n",
        "plt.xlabel(\"B\")"
      ],
      "execution_count": null,
      "outputs": [
        {
          "output_type": "execute_result",
          "data": {
            "text/plain": [
              "Text(0.5, 0, 'B')"
            ]
          },
          "metadata": {},
          "execution_count": 77
        },
        {
          "output_type": "display_data",
          "data": {
            "image/png": "[encoded data removed]",
            "text/plain": [
              "<Figure size 720x432 with 1 Axes>"
            ]
          },
          "metadata": {
            "needs_background": "light"
          }
        }
      ]
    },
    {
      "cell_type": "code",
      "metadata": {
        "colab": {
          "base_uri": "https://localhost:8080/",
          "height": 405
        },
        "id": "XwtjWfE4XVOx",
        "outputId": "c8fb383a-dad6-4388-f69c-20ea5ea2854b"
      },
      "source": [
        "# bar plot for R values\n",
        "plt.figure(figsize=(10,6))\n",
        "skin[skin[\"skin_nonskin\"]==1][\"R\"].hist(alpha=0.5, color=\"blue\", bins=30, label=\"nonskin=1\" )\n",
        "skin[skin[\"skin_nonskin\"]==0][\"R\"].hist(alpha=0.5, color=\"red\", bins=30, label=\"skin=0\" )\n",
        "plt.legend()\n",
        "plt.xlabel(\"R\")"
      ],
      "execution_count": null,
      "outputs": [
        {
          "output_type": "execute_result",
          "data": {
            "text/plain": [
              "Text(0.5, 0, 'R')"
            ]
          },
          "metadata": {},
          "execution_count": 78
        },
        {
          "output_type": "display_data",
          "data": {
            "image/png": "[encoded data removed]",
            "text/plain": [
              "<Figure size 720x432 with 1 Axes>"
            ]
          },
          "metadata": {
            "needs_background": "light"
          }
        }
      ]
    },
    {
      "cell_type": "code",
      "metadata": {
        "colab": {
          "base_uri": "https://localhost:8080/",
          "height": 405
        },
        "id": "5P_OGN3IXVOx",
        "outputId": "74e1bdc5-45d0-4588-b016-42f48ab9fc34"
      },
      "source": [
        "# bar plot for G values\n",
        "plt.figure(figsize=(10,6))\n",
        "skin[skin[\"skin_nonskin\"]==1][\"G\"].hist(alpha=0.5, color=\"blue\", bins=30, label=\"nonskin=1\" )\n",
        "skin[skin[\"skin_nonskin\"]==0][\"G\"].hist(alpha=0.5, color=\"red\", bins=30, label=\"skin=0\" )\n",
        "plt.legend()\n",
        "plt.xlabel(\"G\")"
      ],
      "execution_count": null,
      "outputs": [
        {
          "output_type": "execute_result",
          "data": {
            "text/plain": [
              "Text(0.5, 0, 'G')"
            ]
          },
          "metadata": {},
          "execution_count": 79
        },
        {
          "output_type": "display_data",
          "data": {
            "image/png": "[encoded data removed]",
            "text/plain": [
              "<Figure size 720x432 with 1 Axes>"
            ]
          },
          "metadata": {
            "needs_background": "light"
          }
        }
      ]
    },
    {
      "cell_type": "code",
      "metadata": {
        "scrolled": true,
        "colab": {
          "base_uri": "https://localhost:8080/"
        },
        "id": "jmx59_UPXVOx",
        "outputId": "1dddc93b-0c80-42fc-8184-e36fd5b07401"
      },
      "source": [
        "skin[\"skin_nonskin\"].value_counts()"
      ],
      "execution_count": null,
      "outputs": [
        {
          "output_type": "execute_result",
          "data": {
            "text/plain": [
              "0    194198\n",
              "1     50859\n",
              "Name: skin_nonskin, dtype: int64"
            ]
          },
          "metadata": {},
          "execution_count": 80
        }
      ]
    },
    {
      "cell_type": "markdown",
      "metadata": {
        "id": "RcQbkox0XVOy"
      },
      "source": [
        "1 is non skin and 0 is skin. From this we can see that our dataset is unbalanced. The skin data is way more higher than non skin. "
      ]
    },
    {
      "cell_type": "markdown",
      "metadata": {
        "id": "LLAqJO26XVOy"
      },
      "source": [
        "# Dataset Cleaning  \n",
        "Clean your data. See Hands-on Machine Learning with ScikitLearn &\n",
        "TensorFlow (Pages 59-66)  \n",
        "Describe how you have handled the outliers if there exists any."
      ]
    },
    {
      "cell_type": "markdown",
      "metadata": {
        "id": "emqS5kgMXVOy"
      },
      "source": [
        "## Find outliers"
      ]
    },
    {
      "cell_type": "code",
      "metadata": {
        "colab": {
          "base_uri": "https://localhost:8080/",
          "height": 283
        },
        "id": "FP4mtI50XVOy",
        "outputId": "0639e1c0-f80f-4d5c-fe68-47a60a1214cf"
      },
      "source": [
        "sns.boxplot(data=skin)# we can see no data outside the range of 0 -250"
      ],
      "execution_count": null,
      "outputs": [
        {
          "output_type": "execute_result",
          "data": {
            "text/plain": [
              "<matplotlib.axes._subplots.AxesSubplot at 0x7f18165fded0>"
            ]
          },
          "metadata": {},
          "execution_count": 81
        },
        {
          "output_type": "display_data",
          "data": {
            "image/png": "[encoded data removed]",
            "text/plain": [
              "<Figure size 432x288 with 1 Axes>"
            ]
          },
          "metadata": {
            "needs_background": "light"
          }
        }
      ]
    },
    {
      "cell_type": "code",
      "metadata": {
        "id": "1yIwwejsXVOz"
      },
      "source": [
        "anomalies = []\n",
        "# Function to Detection Outlier on one-dimentional datasets.\n",
        "def findOutliers(data):\n",
        "    # Set upper and lower limit to 3 standard deviation\n",
        "    data_std = np.std(data)\n",
        "    data_mean = np.mean(data)\n",
        "    cut_off = data_std * 3\n",
        "    \n",
        "    lower_limit  = data_mean - cut_off \n",
        "    upper_limit = data_mean + cut_off\n",
        "#     print(lower_limit)\n",
        "    # Generate outliers\n",
        "    for x in data:\n",
        "        if x > upper_limit or x < lower_limit:\n",
        "            anomalies.append(x)\n",
        "    return anomalies\n",
        "\n"
      ],
      "execution_count": null,
      "outputs": []
    },
    {
      "cell_type": "code",
      "metadata": {
        "colab": {
          "base_uri": "https://localhost:8080/"
        },
        "id": "OiBltT46XVOz",
        "outputId": "8305e402-8628-4514-cf10-f178f95b09d7"
      },
      "source": [
        "findOutliers(skin[\"B\"])"
      ],
      "execution_count": null,
      "outputs": [
        {
          "output_type": "execute_result",
          "data": {
            "text/plain": [
              "[]"
            ]
          },
          "metadata": {},
          "execution_count": 83
        }
      ]
    },
    {
      "cell_type": "code",
      "metadata": {
        "colab": {
          "base_uri": "https://localhost:8080/"
        },
        "id": "10h1A3zoXVOz",
        "outputId": "f54f69ad-83a7-4ed6-df69-f679c91409ca"
      },
      "source": [
        "findOutliers(skin[\"R\"])"
      ],
      "execution_count": null,
      "outputs": [
        {
          "output_type": "execute_result",
          "data": {
            "text/plain": [
              "[]"
            ]
          },
          "metadata": {},
          "execution_count": 84
        }
      ]
    },
    {
      "cell_type": "code",
      "metadata": {
        "colab": {
          "base_uri": "https://localhost:8080/"
        },
        "id": "miW7VMrBXVOz",
        "outputId": "a8d1dc5f-b6b5-41e2-f25e-1948b29e78b6"
      },
      "source": [
        "findOutliers(skin[\"G\"])"
      ],
      "execution_count": null,
      "outputs": [
        {
          "output_type": "execute_result",
          "data": {
            "text/plain": [
              "[]"
            ]
          },
          "metadata": {},
          "execution_count": 85
        }
      ]
    },
    {
      "cell_type": "markdown",
      "metadata": {
        "id": "vuvc5rFGXVO0"
      },
      "source": [
        "The predictiors don't exist any outliers."
      ]
    },
    {
      "cell_type": "markdown",
      "metadata": {
        "id": "CUdCZm4SXVO0"
      },
      "source": [
        "## Pre- Processing"
      ]
    },
    {
      "cell_type": "markdown",
      "metadata": {
        "id": "alXHNhPsXVO0"
      },
      "source": [
        "### Train_Test_Split  \n",
        "regular data. "
      ]
    },
    {
      "cell_type": "code",
      "metadata": {
        "id": "l0lcddixXVO1"
      },
      "source": [
        "X= skin[['B', \"R\", 'G']]\n",
        "y = skin[\"skin_nonskin\"]\n",
        "X_train, X_test, y_train, y_test = train_test_split(X, y, test_size=0.3, random_state=101)"
      ],
      "execution_count": null,
      "outputs": []
    },
    {
      "cell_type": "markdown",
      "metadata": {
        "id": "TgNTdwLjXVO1"
      },
      "source": [
        "### Data Normalization   \n",
        "Standardization of a dataset is a common requirement for many machine learning estimators: they might behave badly if the individual features do not more or less look like standard normally distributed data (e.g. Gaussian with 0 mean and unit variance) . From:https://scikit-learn.org/"
      ]
    },
    {
      "cell_type": "code",
      "metadata": {
        "scrolled": true,
        "colab": {
          "base_uri": "https://localhost:8080/",
          "height": 530
        },
        "id": "8J1HMuHJXVO1",
        "outputId": "16676e5c-b5d7-422d-f69c-78ca6bb7ef54"
      },
      "source": [
        "\n",
        "\n",
        "import sklearn.linear_model as sk\n",
        "\n",
        "from sklearn.preprocessing import StandardScaler # Standardized  the predictors\n",
        "from sklearn.ensemble.forest import RandomForestClassifier\n",
        "scaler = StandardScaler()\n",
        "d = skin.drop(\"skin_nonskin\", axis=1)\n",
        "scaler.fit(d)\n",
        "scaled_features= scaler.transform(d)\n",
        "skindf = pd.DataFrame(scaled_features, columns = skin.columns[:-1])\n",
        "skindf.head()"
      ],
      "execution_count": null,
      "outputs": [
        {
          "output_type": "error",
          "ename": "ImportError",
          "evalue": "ignored",
          "traceback": [
            "\u001b[0;31m---------------------------------------------------------------------------\u001b[0m",
            "\u001b[0;31mImportError\u001b[0m                               Traceback (most recent call last)",
            "\u001b[0;32m<ipython-input-131-10f3bac797ea>\u001b[0m in \u001b[0;36m<module>\u001b[0;34m()\u001b[0m\n\u001b[1;32m      4\u001b[0m \u001b[0;34m\u001b[0m\u001b[0m\n\u001b[1;32m      5\u001b[0m \u001b[0;32mfrom\u001b[0m \u001b[0msklearn\u001b[0m\u001b[0;34m.\u001b[0m\u001b[0mpreprocessing\u001b[0m \u001b[0;32mimport\u001b[0m \u001b[0mStandardScaler\u001b[0m \u001b[0;31m# Standardized  the predictors\u001b[0m\u001b[0;34m\u001b[0m\u001b[0;34m\u001b[0m\u001b[0m\n\u001b[0;32m----> 6\u001b[0;31m \u001b[0;32mfrom\u001b[0m \u001b[0msklearn\u001b[0m\u001b[0;34m.\u001b[0m\u001b[0mensemble\u001b[0m\u001b[0;34m.\u001b[0m\u001b[0mforest\u001b[0m \u001b[0;32mimport\u001b[0m \u001b[0mRandomForestClassifier\u001b[0m\u001b[0;34m\u001b[0m\u001b[0;34m\u001b[0m\u001b[0m\n\u001b[0m\u001b[1;32m      7\u001b[0m \u001b[0mscaler\u001b[0m \u001b[0;34m=\u001b[0m \u001b[0mStandardScaler\u001b[0m\u001b[0;34m(\u001b[0m\u001b[0;34m)\u001b[0m\u001b[0;34m\u001b[0m\u001b[0;34m\u001b[0m\u001b[0m\n\u001b[1;32m      8\u001b[0m \u001b[0md\u001b[0m \u001b[0;34m=\u001b[0m \u001b[0mskin\u001b[0m\u001b[0;34m.\u001b[0m\u001b[0mdrop\u001b[0m\u001b[0;34m(\u001b[0m\u001b[0;34m\"skin_nonskin\"\u001b[0m\u001b[0;34m,\u001b[0m \u001b[0maxis\u001b[0m\u001b[0;34m=\u001b[0m\u001b[0;36m1\u001b[0m\u001b[0;34m)\u001b[0m\u001b[0;34m\u001b[0m\u001b[0;34m\u001b[0m\u001b[0m\n",
            "\u001b[0;32m/usr/local/lib/python3.7/dist-packages/sklearn/ensemble/forest.py\u001b[0m in \u001b[0;36m<module>\u001b[0;34m()\u001b[0m\n\u001b[1;32m     59\u001b[0m \u001b[0;32mfrom\u001b[0m \u001b[0;34m.\u001b[0m\u001b[0;34m.\u001b[0m\u001b[0mexceptions\u001b[0m \u001b[0;32mimport\u001b[0m \u001b[0mDataConversionWarning\u001b[0m\u001b[0;34m,\u001b[0m \u001b[0mNotFittedError\u001b[0m\u001b[0;34m\u001b[0m\u001b[0;34m\u001b[0m\u001b[0m\n\u001b[1;32m     60\u001b[0m \u001b[0;32mfrom\u001b[0m \u001b[0;34m.\u001b[0m\u001b[0mbase\u001b[0m \u001b[0;32mimport\u001b[0m \u001b[0mBaseEnsemble\u001b[0m\u001b[0;34m,\u001b[0m \u001b[0m_partition_estimators\u001b[0m\u001b[0;34m\u001b[0m\u001b[0;34m\u001b[0m\u001b[0m\n\u001b[0;32m---> 61\u001b[0;31m \u001b[0;32mfrom\u001b[0m \u001b[0;34m.\u001b[0m\u001b[0;34m.\u001b[0m\u001b[0mutils\u001b[0m\u001b[0;34m.\u001b[0m\u001b[0mfixes\u001b[0m \u001b[0;32mimport\u001b[0m \u001b[0mparallel_helper\u001b[0m\u001b[0;34m,\u001b[0m \u001b[0m_joblib_parallel_args\u001b[0m\u001b[0;34m\u001b[0m\u001b[0;34m\u001b[0m\u001b[0m\n\u001b[0m\u001b[1;32m     62\u001b[0m \u001b[0;32mfrom\u001b[0m \u001b[0;34m.\u001b[0m\u001b[0;34m.\u001b[0m\u001b[0mutils\u001b[0m\u001b[0;34m.\u001b[0m\u001b[0mmulticlass\u001b[0m \u001b[0;32mimport\u001b[0m \u001b[0mcheck_classification_targets\u001b[0m\u001b[0;34m\u001b[0m\u001b[0;34m\u001b[0m\u001b[0m\n\u001b[1;32m     63\u001b[0m \u001b[0;32mfrom\u001b[0m \u001b[0;34m.\u001b[0m\u001b[0;34m.\u001b[0m\u001b[0mutils\u001b[0m\u001b[0;34m.\u001b[0m\u001b[0mvalidation\u001b[0m \u001b[0;32mimport\u001b[0m \u001b[0mcheck_is_fitted\u001b[0m\u001b[0;34m\u001b[0m\u001b[0;34m\u001b[0m\u001b[0m\n",
            "\u001b[0;31mImportError\u001b[0m: cannot import name 'parallel_helper' from 'sklearn.utils.fixes' (/usr/local/lib/python3.7/dist-packages/sklearn/utils/fixes.py)",
            "",
            "\u001b[0;31m---------------------------------------------------------------------------\u001b[0;32m\nNOTE: If your import is failing due to a missing package, you can\nmanually install dependencies using either !pip or !apt.\n\nTo view examples of installing some common dependencies, click the\n\"Open Examples\" button below.\n\u001b[0;31m---------------------------------------------------------------------------\u001b[0m\n"
          ],
          "errorDetails": {
            "actions": [
              {
                "action": "open_url",
                "actionText": "Open Examples",
                "url": "/notebooks/snippets/importing_libraries.ipynb"
              }
            ]
          }
        }
      ]
    },
    {
      "cell_type": "code",
      "metadata": {
        "scrolled": true,
        "colab": {
          "base_uri": "https://localhost:8080/"
        },
        "id": "hciI4sULXVO1",
        "outputId": "bd306eac-7efa-4af0-d236-2ce000cd4ed6"
      },
      "source": [
        "max(skindf.B)"
      ],
      "execution_count": null,
      "outputs": [
        {
          "output_type": "execute_result",
          "data": {
            "text/plain": [
              "1.8162990060736706"
            ]
          },
          "metadata": {},
          "execution_count": 132
        }
      ]
    },
    {
      "cell_type": "code",
      "metadata": {
        "scrolled": true,
        "colab": {
          "base_uri": "https://localhost:8080/"
        },
        "id": "xRN00KtgXVO1",
        "outputId": "4fdf245a-4045-4803-8f78-b261b8287b97"
      },
      "source": [
        "min(skindf.B)"
      ],
      "execution_count": null,
      "outputs": [
        {
          "output_type": "execute_result",
          "data": {
            "text/plain": [
              "-1.6968061608211427"
            ]
          },
          "metadata": {},
          "execution_count": 90
        }
      ]
    },
    {
      "cell_type": "code",
      "metadata": {
        "id": "dRtiGj4_XVO1"
      },
      "source": [
        "# create scaled data set\n",
        "y = skin[\"skin_nonskin\"]\n",
        "scaled_X_train, scaled_X_test, scaled_y_train, scaled_y_test = train_test_split(skindf,y, test_size=0.3, random_state=101)"
      ],
      "execution_count": null,
      "outputs": []
    },
    {
      "cell_type": "markdown",
      "metadata": {
        "id": "2xa70G71XVO2"
      },
      "source": [
        "# Feature Extraction  \n",
        "Extract (eliminate) features using different methods we learned in class"
      ]
    },
    {
      "cell_type": "code",
      "metadata": {
        "colab": {
          "base_uri": "https://localhost:8080/"
        },
        "id": "vVin7XROXVO2",
        "outputId": "9391c623-a549-4143-8e0d-720ed5e125aa"
      },
      "source": [
        "# feature evaluation\n",
        "rfc2 = RandomForestClassifier(n_estimators=100, max_depth=10, random_state=0)\n",
        "rfc2.fit(X,y)\n",
        "rfc2.feature_importances_"
      ],
      "execution_count": null,
      "outputs": [
        {
          "output_type": "execute_result",
          "data": {
            "text/plain": [
              "array([0.55058482, 0.21722656, 0.23218861])"
            ]
          },
          "metadata": {},
          "execution_count": 134
        }
      ]
    },
    {
      "cell_type": "code",
      "metadata": {
        "colab": {
          "base_uri": "https://localhost:8080/",
          "height": 667
        },
        "id": "G-i5C1GAXVO2",
        "outputId": "bd2e8a4c-50f9-427c-a73c-b3f25fe75ca0"
      },
      "source": [
        "Importance = pd.DataFrame({'Importance':rfc2.feature_importances_*100}, index=X.columns)\n",
        "Importance.sort_values('Importance', axis=0, ascending=True).plot(kind='barh', color='green', )\n",
        "plt.xlabel('Variable Importance')\n",
        "plt.gca().legend_ = None"
      ],
      "execution_count": null,
      "outputs": [
        {
          "output_type": "display_data",
          "data": {
            "image/png": "[encoded data removed]",
            "text/plain": [
              "<Figure size 1440x1440 with 1 Axes>"
            ]
          },
          "metadata": {
            "needs_background": "light"
          }
        }
      ]
    },
    {
      "cell_type": "markdown",
      "metadata": {
        "id": "6ORYk46tXVO2"
      },
      "source": [
        "# Model Development (4 models)  \n",
        "Select and train at least FOUR different classification models (models should\n",
        "be part of course syllabus, see the list below for possible models)."
      ]
    },
    {
      "cell_type": "markdown",
      "metadata": {
        "id": "xBI-FoANXVO2"
      },
      "source": [
        "### Logistic Regression"
      ]
    },
    {
      "cell_type": "markdown",
      "metadata": {
        "id": "h_mGi1HSXVO2"
      },
      "source": [
        "without normalization "
      ]
    },
    {
      "cell_type": "code",
      "metadata": {
        "colab": {
          "base_uri": "https://localhost:8080/"
        },
        "id": "mB1sr5huXVO2",
        "outputId": "2e080578-5cf1-45b8-c11f-bd712cfacfd8"
      },
      "source": [
        "#Logistic Regression Model\n",
        "from sklearn.linear_model import LogisticRegression\n",
        "logmodel = LogisticRegression()\n",
        "fit_model = logmodel.fit(X_train,y_train)\n",
        "log_predictions = logmodel.predict(X_test)\n",
        "print(classification_report(y_test,log_predictions))\n",
        "print(confusion_matrix(y_test,log_predictions))"
      ],
      "execution_count": null,
      "outputs": [
        {
          "output_type": "stream",
          "name": "stdout",
          "text": [
            "              precision    recall  f1-score   support\n",
            "\n",
            "           0       0.95      0.94      0.95     58341\n",
            "           1       0.79      0.83      0.81     15177\n",
            "\n",
            "    accuracy                           0.92     73518\n",
            "   macro avg       0.87      0.89      0.88     73518\n",
            "weighted avg       0.92      0.92      0.92     73518\n",
            "\n",
            "[[55077  3264]\n",
            " [ 2641 12536]]\n"
          ]
        }
      ]
    },
    {
      "cell_type": "code",
      "metadata": {
        "scrolled": true,
        "colab": {
          "base_uri": "https://localhost:8080/"
        },
        "id": "rCDZ_bIOXVO3",
        "outputId": "02905d91-fe43-4d0b-9c54-fc9852996b0e"
      },
      "source": [
        "from sklearn.metrics import accuracy_score\n",
        "accuracy_score(y_test,log_predictions)"
      ],
      "execution_count": null,
      "outputs": [
        {
          "output_type": "execute_result",
          "data": {
            "text/plain": [
              "0.9196795342637177"
            ]
          },
          "metadata": {},
          "execution_count": 107
        }
      ]
    },
    {
      "cell_type": "markdown",
      "metadata": {
        "id": "LDvT9OgUXVO3"
      },
      "source": [
        "The test result from the output of normalized data and without normalized data are exactly the same. "
      ]
    },
    {
      "cell_type": "markdown",
      "metadata": {
        "id": "qSS9YYo1XVO3"
      },
      "source": [
        "### KNN"
      ]
    },
    {
      "cell_type": "markdown",
      "metadata": {
        "id": "OMTSUDiRXVO3"
      },
      "source": [
        "[link text](https://)Standardization of a dataset is a common requirement for many machine learning estimators: they might behave badly if the individual features do not more or less look like standard normally distributed data (e.g. Gaussian with 0 mean and unit variance) . From:https://scikit-learn.org/"
      ]
    },
    {
      "cell_type": "code",
      "metadata": {
        "id": "dySsW1YUXVO3"
      },
      "source": [
        "# KNN model\n",
        "error_rate1=[]  # choose the best k within 1 to 20\n",
        "for i in range(1,20):\n",
        "    knn= KNeighborsClassifier(n_neighbors=i)\n",
        "    knn.fit(X_train,y_train)\n",
        "    pred_i = knn.predict(X_test)\n",
        "    error_rate1.append(np.mean(pred_i !=y_test))"
      ],
      "execution_count": null,
      "outputs": []
    },
    {
      "cell_type": "code",
      "metadata": {
        "scrolled": false,
        "colab": {
          "base_uri": "https://localhost:8080/",
          "height": 421
        },
        "id": "3BfAHvp8XVO3",
        "outputId": "9afb6cf5-ebfa-4b15-bb3b-45873f473566"
      },
      "source": [
        "# Evaluate KNN alternative values\n",
        "plt.figure(figsize=(10,6)) \n",
        "plt.plot(range(1,20), error_rate1, color=\"blue\", lineStyle=\"dashed\",marker=\"o\", markerfacecolor=\"red\", markersize=10)\n",
        "plt.title(\"Error Rate vs K value\")\n",
        "plt.xlabel(\"K\")\n",
        "plt.ylabel(\"Error Rate\")"
      ],
      "execution_count": null,
      "outputs": [
        {
          "output_type": "execute_result",
          "data": {
            "text/plain": [
              "Text(0, 0.5, 'Error Rate')"
            ]
          },
          "metadata": {},
          "execution_count": 109
        },
        {
          "output_type": "display_data",
          "data": {
            "image/png": "[encoded data removed]",
            "text/plain": [
              "<Figure size 720x432 with 1 Axes>"
            ]
          },
          "metadata": {
            "needs_background": "light"
          }
        }
      ]
    },
    {
      "cell_type": "markdown",
      "metadata": {
        "id": "bOsdyobnXVO4"
      },
      "source": [
        "From the plot we can see that K=1 is the best which provide the lowest error rate. As the K neighobour is bigger the error rate is higher."
      ]
    },
    {
      "cell_type": "code",
      "metadata": {
        "colab": {
          "base_uri": "https://localhost:8080/"
        },
        "id": "gtNeMZOZXVO4",
        "outputId": "8a7ceeda-5679-4c00-b8c8-a9737d02f289"
      },
      "source": [
        "# k = 1\n",
        "knn= KNeighborsClassifier(n_neighbors= 1) \n",
        "knn.fit(X_train,y_train)\n",
        "knn_pred = knn.predict(X_test)\n",
        "print(confusion_matrix(y_test, knn_pred))\n",
        "print(classification_report(y_test,knn_pred))"
      ],
      "execution_count": null,
      "outputs": [
        {
          "output_type": "stream",
          "name": "stdout",
          "text": [
            "[[58316    25]\n",
            " [    9 15168]]\n",
            "              precision    recall  f1-score   support\n",
            "\n",
            "           0       1.00      1.00      1.00     58341\n",
            "           1       1.00      1.00      1.00     15177\n",
            "\n",
            "    accuracy                           1.00     73518\n",
            "   macro avg       1.00      1.00      1.00     73518\n",
            "weighted avg       1.00      1.00      1.00     73518\n",
            "\n"
          ]
        }
      ]
    },
    {
      "cell_type": "code",
      "metadata": {
        "scrolled": true,
        "colab": {
          "base_uri": "https://localhost:8080/"
        },
        "id": "rtdu_GxKXVO4",
        "outputId": "14b90320-03b3-4256-a8fe-f709a042dcc3"
      },
      "source": [
        "# k = 3\n",
        "knn3= KNeighborsClassifier(n_neighbors= 3) \n",
        "knn3.fit(scaled_X_train,scaled_y_train)\n",
        "knn3_pred = knn3.predict(scaled_X_test)\n",
        "print(confusion_matrix(scaled_y_test, knn3_pred))\n",
        "print(classification_report(scaled_y_test,knn3_pred))"
      ],
      "execution_count": null,
      "outputs": [
        {
          "output_type": "stream",
          "name": "stdout",
          "text": [
            "[[58309    32]\n",
            " [    5 15172]]\n",
            "              precision    recall  f1-score   support\n",
            "\n",
            "           0       1.00      1.00      1.00     58341\n",
            "           1       1.00      1.00      1.00     15177\n",
            "\n",
            "    accuracy                           1.00     73518\n",
            "   macro avg       1.00      1.00      1.00     73518\n",
            "weighted avg       1.00      1.00      1.00     73518\n",
            "\n"
          ]
        }
      ]
    },
    {
      "cell_type": "markdown",
      "metadata": {
        "id": "WfvOoA-GXVO4"
      },
      "source": [
        "## Decision Trees"
      ]
    },
    {
      "cell_type": "code",
      "metadata": {
        "id": "5_XNuYYXXVO4"
      },
      "source": [
        "from sklearn.tree import DecisionTreeClassifier"
      ],
      "execution_count": null,
      "outputs": []
    },
    {
      "cell_type": "code",
      "metadata": {
        "scrolled": true,
        "colab": {
          "base_uri": "https://localhost:8080/"
        },
        "id": "pCDgkXoBXVO4",
        "outputId": "9ad5e610-32f2-4f18-91ab-04eb0b08539d"
      },
      "source": [
        "# Decision tree model\n",
        "dtree= DecisionTreeClassifier()\n",
        "dtree.fit(X_train, y_train)\n",
        "tree_preds= dtree.predict(X_test)\n",
        "print(confusion_matrix(y_test, tree_preds))\n",
        "print(classification_report(y_test, tree_preds))"
      ],
      "execution_count": null,
      "outputs": [
        {
          "output_type": "stream",
          "name": "stdout",
          "text": [
            "[[58309    32]\n",
            " [   40 15137]]\n",
            "              precision    recall  f1-score   support\n",
            "\n",
            "           0       1.00      1.00      1.00     58341\n",
            "           1       1.00      1.00      1.00     15177\n",
            "\n",
            "    accuracy                           1.00     73518\n",
            "   macro avg       1.00      1.00      1.00     73518\n",
            "weighted avg       1.00      1.00      1.00     73518\n",
            "\n"
          ]
        }
      ]
    },
    {
      "cell_type": "markdown",
      "metadata": {
        "id": "xSkPIDTIXVO5"
      },
      "source": [
        "##### used scaled values "
      ]
    },
    {
      "cell_type": "code",
      "metadata": {
        "scrolled": false,
        "colab": {
          "base_uri": "https://localhost:8080/"
        },
        "id": "NNJkmzUWXVO5",
        "outputId": "5d22794b-1049-42b4-9304-98595df7d9b0"
      },
      "source": [
        "dtree= DecisionTreeClassifier()\n",
        "dtree.fit(scaled_X_train, scaled_y_train)\n",
        "scaled_tree_preds= dtree.predict(scaled_X_test)\n",
        "print(confusion_matrix(scaled_y_test, scaled_tree_preds))\n",
        "print(classification_report(scaled_y_test, scaled_tree_preds))"
      ],
      "execution_count": null,
      "outputs": [
        {
          "output_type": "stream",
          "name": "stdout",
          "text": [
            "[[58312    29]\n",
            " [   39 15138]]\n",
            "              precision    recall  f1-score   support\n",
            "\n",
            "           0       1.00      1.00      1.00     58341\n",
            "           1       1.00      1.00      1.00     15177\n",
            "\n",
            "    accuracy                           1.00     73518\n",
            "   macro avg       1.00      1.00      1.00     73518\n",
            "weighted avg       1.00      1.00      1.00     73518\n",
            "\n"
          ]
        }
      ]
    },
    {
      "cell_type": "code",
      "metadata": {
        "scrolled": false,
        "id": "m_HzNdNAXVO5"
      },
      "source": [
        "from IPython.display import Image  \n",
        "from six import StringIO\n",
        "from sklearn.tree import export_graphviz\n",
        "import pydotplus\n",
        "from sklearn import tree\n"
      ],
      "execution_count": null,
      "outputs": []
    },
    {
      "cell_type": "code",
      "metadata": {
        "colab": {
          "base_uri": "https://localhost:8080/",
          "height": 155
        },
        "id": "iRI8qqNpXVO5",
        "outputId": "d3eabc58-5f00-4210-8af6-6441e5bac0c4"
      },
      "source": [
        "# Graphviz vizualiation\n",
        "dtc = DecisionTreeClassifier(max_depth=5) # draw decision tree  using DecisionTree Classifier\n",
        "dtc.fit(X, y)\n",
        "dot_data = StringIO()\n",
        "export_graphviz(dtc, out_file=dot_data, feature_names=list(X.columns.values), class_names=None, filled=True)\n",
        "graph = pydotplus.graph_from_dot_data(dot_data.getvalue())\n",
        "Image(graph.create_png())\n",
        "graph.write_png('dec_tree_depth5.png')\n",
        "img = plt.imread('dec_tree_depth5.png')\n",
        "plt.rcParams[\"figure.figsize\"] = (20, 20)\n",
        "plt.imshow(img)"
      ],
      "execution_count": null,
      "outputs": [
        {
          "output_type": "execute_result",
          "data": {
            "text/plain": [
              "<matplotlib.image.AxesImage at 0x7f180dab4950>"
            ]
          },
          "metadata": {},
          "execution_count": 116
        },
        {
          "output_type": "display_data",
          "data": {
            "image/png": "[encoded data removed]",
            "text/plain": [
              "<Figure size 1440x1440 with 1 Axes>"
            ]
          },
          "metadata": {
            "needs_background": "light"
          }
        }
      ]
    },
    {
      "cell_type": "markdown",
      "metadata": {
        "id": "wxgrtn6IXVO5"
      },
      "source": [
        "#### Random Forest"
      ]
    },
    {
      "cell_type": "code",
      "metadata": {
        "id": "hSok0MReXVO5"
      },
      "source": [
        "from sklearn.ensemble import RandomForestClassifier"
      ],
      "execution_count": null,
      "outputs": []
    },
    {
      "cell_type": "code",
      "metadata": {
        "colab": {
          "base_uri": "https://localhost:8080/"
        },
        "id": "DQkcSOLnXVO5",
        "outputId": "02948882-8bb0-45b3-ee5a-4be5a8e2d1ad"
      },
      "source": [
        "# Random Forest Model  B = 50\n",
        "rfc= RandomForestClassifier(n_estimators=50)\n",
        "rfc.fit(X_train,y_train)\n",
        "rfc_pred = rfc.predict(X_test)\n",
        "print(confusion_matrix(y_test, rfc_pred))\n",
        "print(classification_report(y_test, rfc_pred))"
      ],
      "execution_count": null,
      "outputs": [
        {
          "output_type": "stream",
          "name": "stdout",
          "text": [
            "[[58316    25]\n",
            " [    8 15169]]\n",
            "              precision    recall  f1-score   support\n",
            "\n",
            "           0       1.00      1.00      1.00     58341\n",
            "           1       1.00      1.00      1.00     15177\n",
            "\n",
            "    accuracy                           1.00     73518\n",
            "   macro avg       1.00      1.00      1.00     73518\n",
            "weighted avg       1.00      1.00      1.00     73518\n",
            "\n"
          ]
        }
      ]
    },
    {
      "cell_type": "code",
      "metadata": {
        "scrolled": true,
        "colab": {
          "base_uri": "https://localhost:8080/"
        },
        "id": "5MDE_66bXVO6",
        "outputId": "ace58878-a91c-45da-cd49-00d83462a43a"
      },
      "source": [
        "# Random Forest model B = 100\n",
        "rfc= RandomForestClassifier(n_estimators=100)\n",
        "rfc.fit(X_train,y_train)\n",
        "rfc_pred = rfc.predict(X_test)\n",
        "print(confusion_matrix(y_test, rfc_pred))\n",
        "print(classification_report(y_test, rfc_pred))"
      ],
      "execution_count": null,
      "outputs": [
        {
          "output_type": "stream",
          "name": "stdout",
          "text": [
            "[[58317    24]\n",
            " [    9 15168]]\n",
            "              precision    recall  f1-score   support\n",
            "\n",
            "           0       1.00      1.00      1.00     58341\n",
            "           1       1.00      1.00      1.00     15177\n",
            "\n",
            "    accuracy                           1.00     73518\n",
            "   macro avg       1.00      1.00      1.00     73518\n",
            "weighted avg       1.00      1.00      1.00     73518\n",
            "\n"
          ]
        }
      ]
    },
    {
      "cell_type": "markdown",
      "metadata": {
        "id": "GnEInbIIXVO6"
      },
      "source": [
        "## SVM"
      ]
    },
    {
      "cell_type": "code",
      "metadata": {
        "colab": {
          "base_uri": "https://localhost:8080/"
        },
        "id": "q0e2sF_2XVO6",
        "outputId": "b195afa9-a564-4631-81a7-f107f4c7b4e1"
      },
      "source": [
        "# SVM model\n",
        "from sklearn.svm import SVC\n",
        "svc = SVC(decision_function_shape='ovo')\n",
        "svc.fit(X_train, y_train)\n",
        "svc_pred = svc.predict(X_test)\n",
        "print(\"Confusion Matrix for 3 predictor  SVM\")\n",
        "print(confusion_matrix(y_test, svc_pred))\n",
        "print(\"====================================\")\n",
        "print(\"Classification_report for 3 predictor SVM\")\n",
        "print(classification_report(y_test, svc_pred))"
      ],
      "execution_count": null,
      "outputs": [
        {
          "output_type": "stream",
          "name": "stdout",
          "text": [
            "Confusion Matrix for 3 predictor  SVM\n",
            "[[58209   132]\n",
            " [    1 15176]]\n",
            "====================================\n",
            "Classification_report for 3 predictor SVM\n",
            "              precision    recall  f1-score   support\n",
            "\n",
            "           0       1.00      1.00      1.00     58341\n",
            "           1       0.99      1.00      1.00     15177\n",
            "\n",
            "    accuracy                           1.00     73518\n",
            "   macro avg       1.00      1.00      1.00     73518\n",
            "weighted avg       1.00      1.00      1.00     73518\n",
            "\n"
          ]
        }
      ]
    },
    {
      "cell_type": "markdown",
      "metadata": {
        "id": "IhK0jNS7XVO6"
      },
      "source": [
        "#### Cross validation"
      ]
    },
    {
      "cell_type": "code",
      "metadata": {
        "id": "zM7OEKA-XVO6"
      },
      "source": [
        "from sklearn.model_selection import cross_val_score\n",
        "from sklearn.model_selection import KFold \n",
        "folds = 5\n",
        "kf = KFold(n_splits=folds,shuffle=True)"
      ],
      "execution_count": null,
      "outputs": []
    },
    {
      "cell_type": "code",
      "metadata": {
        "colab": {
          "base_uri": "https://localhost:8080/"
        },
        "id": "H_o0hkgtXVO6",
        "outputId": "017f1e52-948c-4c8c-e19d-e2066a618a3b"
      },
      "source": [
        "logmodel = LogisticRegression()#  k-fold cross validation for Logistic Regression\n",
        "log_kfscore = cross_val_score(logmodel,X,y,cv=kf, scoring = \"accuracy\").mean()\n",
        "log_kfscore"
      ],
      "execution_count": null,
      "outputs": [
        {
          "output_type": "execute_result",
          "data": {
            "text/plain": [
              "0.9188147948532477"
            ]
          },
          "metadata": {},
          "execution_count": 122
        }
      ]
    },
    {
      "cell_type": "code",
      "metadata": {
        "colab": {
          "base_uri": "https://localhost:8080/"
        },
        "id": "iMHxSJgZXVO6",
        "outputId": "88b4450d-5ce0-4ed0-d47f-9a62560076e1"
      },
      "source": [
        "#  k-fold cross validation KNN\n",
        "knn = KNeighborsClassifier(n_neighbors=3)\n",
        "knn_kfscore = cross_val_score(knn,X,y,cv=kf, scoring = \"accuracy\").mean()\n",
        "knn_kfscore"
      ],
      "execution_count": null,
      "outputs": [
        {
          "output_type": "execute_result",
          "data": {
            "text/plain": [
              "0.9995878502903484"
            ]
          },
          "metadata": {},
          "execution_count": 123
        }
      ]
    },
    {
      "cell_type": "code",
      "metadata": {
        "colab": {
          "base_uri": "https://localhost:8080/"
        },
        "id": "uBroCmdYXVO7",
        "outputId": "03e33ff7-ad6c-494a-fc71-97c670d512c6"
      },
      "source": [
        "rfc= RandomForestClassifier(n_estimators=100)#  k-fold cross validation for Random Forest \n",
        "rfc_kfscore = cross_val_score(rfc,X,y,cv=kf, scoring = \"accuracy\").mean()\n",
        "rfc_kfscore"
      ],
      "execution_count": null,
      "outputs": [
        {
          "output_type": "execute_result",
          "data": {
            "text/plain": [
              "0.9995592861069269"
            ]
          },
          "metadata": {},
          "execution_count": 124
        }
      ]
    },
    {
      "cell_type": "code",
      "metadata": {
        "colab": {
          "base_uri": "https://localhost:8080/"
        },
        "id": "vRtiRPplXVO7",
        "outputId": "20c1062f-e02f-43de-d309-60f1ca678cc9"
      },
      "source": [
        "svc = SVC(decision_function_shape='ovo') # k-fold cross validation fro SVM\n",
        "knn_kfscore = cross_val_score(knn,X,y,cv=kf, scoring = \"accuracy\").mean()\n",
        "knn_kfscore"
      ],
      "execution_count": null,
      "outputs": [
        {
          "output_type": "execute_result",
          "data": {
            "text/plain": [
              "0.9995796890237199"
            ]
          },
          "metadata": {},
          "execution_count": 125
        }
      ]
    },
    {
      "cell_type": "code",
      "metadata": {
        "id": "R10UGXzZXVO7"
      },
      "source": [
        "cv = {}"
      ],
      "execution_count": null,
      "outputs": []
    },
    {
      "cell_type": "markdown",
      "metadata": {
        "id": "Fpm_eHMzXVO7"
      },
      "source": [
        "#### ROC curve"
      ]
    },
    {
      "cell_type": "code",
      "metadata": {
        "scrolled": true,
        "id": "Z8y4t6ybXVO7"
      },
      "source": [
        "import sklearn.metrics as metrics\n",
        "from sklearn.metrics import roc_curve, auc, roc_auc_score\n",
        "\n",
        "logreg = logmodel.fit(X_train, y_train).predict_proba(X_test) \n",
        "fpr1, tpr1, threshold = metrics.roc_curve(y_test, logreg[:, 1])\n",
        "roc_auc1 = metrics.auc(fpr1, tpr1)\n",
        "\n",
        "knnprob = knn.fit(X_train, y_train).predict_proba(X_test) \n",
        "fpr2, tpr2, threshold = metrics.roc_curve(y_test, knnprob[:, 1])\n",
        "roc_auc2 = metrics.auc(fpr2, tpr2)\n",
        "\n",
        "rfcprob = rfc.fit(X_train, y_train).predict_proba(X_test) \n",
        "fpr3, tpr3, threshold = metrics.roc_curve(y_test, rfcprob[:, 1])\n",
        "roc_auc3 = metrics.auc(fpr3, tpr3)\n",
        "\n",
        "clf=SVC(probability=True)\n",
        "svcprob = clf.fit(X_train, y_train).predict_proba(X_test) \n",
        "fpr4, tpr4, threshold = metrics.roc_curve(y_test, svcprob[:, 1])\n",
        "roc_auc4 = metrics.auc(fpr4, tpr4)\n"
      ],
      "execution_count": null,
      "outputs": []
    },
    {
      "cell_type": "code",
      "metadata": {
        "scrolled": false,
        "colab": {
          "base_uri": "https://localhost:8080/",
          "height": 513
        },
        "id": "Ex1JD0nCXVO7",
        "outputId": "91deaa5a-8d4a-4254-968c-796eb45ab39c"
      },
      "source": [
        "plt.figure(figsize=(10,8))\n",
        "plt.title('ROC Curve')\n",
        "plt.plot(fpr1, tpr1, 'b', label = 'AUC of Logistic = %0.7f' % roc_auc1) \n",
        "plt.plot(fpr2, tpr2,  'g', label = 'AUC of KNN= %0.7f' % roc_auc2)\n",
        "plt.plot(fpr3, tpr3, 'brown',  label = 'AUC of Decision Tree= %0.7f' % roc_auc3)\n",
        "plt.plot(fpr4, tpr4, 'pink', label = 'AUC of SVM= %0.7f' % roc_auc4)\n",
        "plt.legend(loc = 'lower right')\n",
        "plt.ylabel('True Positive Rate')\n",
        "plt.xlabel('False Positive Rate')\n",
        "plt.show()"
      ],
      "execution_count": null,
      "outputs": [
        {
          "output_type": "display_data",
          "data": {
            "image/png": "[encoded data removed]",
            "text/plain": [
              "<Figure size 720x576 with 1 Axes>"
            ]
          },
          "metadata": {
            "needs_background": "light"
          }
        }
      ]
    },
    {
      "cell_type": "markdown",
      "metadata": {
        "id": "LIq3-DmZXVO7"
      },
      "source": [
        "## Fine-tune your models & Feature Set:\n",
        "Evaluate your models using test set. Fine-tune your model, and optimize\n",
        "feature set."
      ]
    },
    {
      "cell_type": "markdown",
      "metadata": {
        "id": "-6Mgsg_7XVO7"
      },
      "source": [
        "##### After Normalization(logistic regression)"
      ]
    },
    {
      "cell_type": "code",
      "metadata": {
        "scrolled": true,
        "colab": {
          "base_uri": "https://localhost:8080/"
        },
        "id": "uQfJCbe4XVO8",
        "outputId": "15f312d6-b093-4a44-9492-17a4791e08bf"
      },
      "source": [
        "from sklearn.linear_model import LogisticRegression\n",
        "logmodel = LogisticRegression()\n",
        "fit_model = logmodel.fit(scaled_X_train,scaled_y_train)\n",
        "scaled_pred = logmodel.predict(scaled_X_test)\n",
        "print(classification_report(scaled_y_test,scaled_pred))\n",
        "print(confusion_matrix(scaled_y_test,scaled_pred))"
      ],
      "execution_count": null,
      "outputs": [
        {
          "output_type": "stream",
          "name": "stdout",
          "text": [
            "              precision    recall  f1-score   support\n",
            "\n",
            "           0       0.95      0.94      0.95     58341\n",
            "           1       0.79      0.83      0.81     15177\n",
            "\n",
            "    accuracy                           0.92     73518\n",
            "   macro avg       0.87      0.89      0.88     73518\n",
            "weighted avg       0.92      0.92      0.92     73518\n",
            "\n",
            "[[55077  3264]\n",
            " [ 2641 12536]]\n"
          ]
        }
      ]
    },
    {
      "cell_type": "code",
      "metadata": {
        "id": "4b0hK4kjXVO8"
      },
      "source": [
        "error_rate=[]  # choose the best k within 1 to 20\n",
        "for i in range(1,20):\n",
        "    knn= KNeighborsClassifier(n_neighbors=i)\n",
        "    knn.fit(scaled_X_train,scaled_y_train)\n",
        "    pred_i = knn.predict(scaled_X_test)\n",
        "    error_rate.append(np.mean(pred_i !=scaled_y_test))"
      ],
      "execution_count": null,
      "outputs": []
    },
    {
      "cell_type": "code",
      "metadata": {
        "colab": {
          "base_uri": "https://localhost:8080/",
          "height": 421
        },
        "id": "Ine6U03BXVO8",
        "outputId": "a24a40e3-bf57-458a-b68e-2d3bf6e8e3a8"
      },
      "source": [
        "plt.figure(figsize=(10,6)) \n",
        "plt.plot(range(1,20), error_rate, color=\"blue\", lineStyle=\"dashed\",marker=\"o\", markerfacecolor=\"red\", markersize=10)\n",
        "plt.title(\"Error Rate vs K value\")\n",
        "plt.xlabel(\"K\")\n",
        "plt.ylabel(\"Error Rate\")"
      ],
      "execution_count": null,
      "outputs": [
        {
          "output_type": "execute_result",
          "data": {
            "text/plain": [
              "Text(0, 0.5, 'Error Rate')"
            ]
          },
          "metadata": {},
          "execution_count": 138
        },
        {
          "output_type": "display_data",
          "data": {
            "image/png": "[encoded data removed]",
            "text/plain": [
              "<Figure size 720x432 with 1 Axes>"
            ]
          },
          "metadata": {
            "needs_background": "light"
          }
        }
      ]
    },
    {
      "cell_type": "code",
      "metadata": {
        "colab": {
          "base_uri": "https://localhost:8080/"
        },
        "id": "skTwbl9gXVO8",
        "outputId": "318b5471-8114-483a-c539-b2f2a2961385"
      },
      "source": [
        "knn3= KNeighborsClassifier(n_neighbors= 3) \n",
        "knn3.fit(scaled_X_train,scaled_y_train)\n",
        "knn3_pred = knn3.predict(scaled_X_test)\n",
        "print(confusion_matrix(scaled_y_test, knn3_pred))\n",
        "print(classification_report(scaled_y_test,knn3_pred))"
      ],
      "execution_count": null,
      "outputs": [
        {
          "output_type": "stream",
          "name": "stdout",
          "text": [
            "[[58309    32]\n",
            " [    5 15172]]\n",
            "              precision    recall  f1-score   support\n",
            "\n",
            "           0       1.00      1.00      1.00     58341\n",
            "           1       1.00      1.00      1.00     15177\n",
            "\n",
            "    accuracy                           1.00     73518\n",
            "   macro avg       1.00      1.00      1.00     73518\n",
            "weighted avg       1.00      1.00      1.00     73518\n",
            "\n"
          ]
        }
      ]
    },
    {
      "cell_type": "markdown",
      "metadata": {
        "id": "g-sZsvrqXVO8"
      },
      "source": [
        "# Performance:\n",
        "Measure the performance of your classifiers using different metrics"
      ]
    },
    {
      "cell_type": "code",
      "metadata": {
        "id": "jkECn7y_XVO8"
      },
      "source": [
        "X1= skin[['B',  'G']]\n",
        "y1 = skin[\"skin_nonskin\"]\n",
        "X1_train, X1_test, y1_train, y1_test = train_test_split(X1, y1, test_size=0.3, random_state=101)"
      ],
      "execution_count": null,
      "outputs": []
    },
    {
      "cell_type": "code",
      "metadata": {
        "id": "7N2eeBYqXVO8"
      },
      "source": [
        "X2= skin[[\"R\", 'G']]\n",
        "y2 = skin[\"skin_nonskin\"]\n",
        "X2_train, X2_test, y2_train, y2_test = train_test_split(X2, y2, test_size=0.3, random_state=101)"
      ],
      "execution_count": null,
      "outputs": []
    },
    {
      "cell_type": "code",
      "metadata": {
        "id": "M3mVJEjHXVO8"
      },
      "source": [
        "X3= skin[['B', \"R\"]]\n",
        "y3 = skin[\"skin_nonskin\"]\n",
        "X3_train, X3_test, y3_train, y3_test = train_test_split(X3, y3, test_size=0.3, random_state=101)"
      ],
      "execution_count": null,
      "outputs": []
    },
    {
      "cell_type": "markdown",
      "metadata": {
        "id": "SR8iZHnQXVO9"
      },
      "source": [
        "### Performance testing for SVM with two predictors"
      ]
    },
    {
      "cell_type": "code",
      "metadata": {
        "colab": {
          "base_uri": "https://localhost:8080/"
        },
        "id": "X7k_0Ks7XVO9",
        "outputId": "36cc0396-899e-4a63-ec1d-3f868b9938a2"
      },
      "source": [
        "from sklearn.svm import SVC\n",
        "svc = SVC()\n",
        "svc.fit(X1_train, y1_train)\n",
        "svc1_pred = svc.predict(X1_test)\n",
        "print(\"SVM Confusion Matrix for bolumn B and G\")\n",
        "print(confusion_matrix(y1_test, svc1_pred))\n",
        "print(\"====================================\")\n",
        "print(\"SVM Classification_report for 3 predictor SVM\")\n",
        "print(classification_report(y1_test, svc1_pred))"
      ],
      "execution_count": null,
      "outputs": [
        {
          "output_type": "stream",
          "name": "stdout",
          "text": [
            "SVM Confusion Matrix for bolumn B and G\n",
            "[[57462   879]\n",
            " [   45 15132]]\n",
            "====================================\n",
            "SVM Classification_report for 3 predictor SVM\n",
            "              precision    recall  f1-score   support\n",
            "\n",
            "           0       1.00      0.98      0.99     58341\n",
            "           1       0.95      1.00      0.97     15177\n",
            "\n",
            "    accuracy                           0.99     73518\n",
            "   macro avg       0.97      0.99      0.98     73518\n",
            "weighted avg       0.99      0.99      0.99     73518\n",
            "\n"
          ]
        }
      ]
    },
    {
      "cell_type": "code",
      "metadata": {
        "colab": {
          "base_uri": "https://localhost:8080/"
        },
        "id": "9fdEotwRXVO9",
        "outputId": "d520a1eb-5484-4303-ccfa-18fb1bbd2cc1"
      },
      "source": [
        "svc.fit(X2_train, y2_train)\n",
        "svc2_pred = svc.predict(X2_test)\n",
        "print(\"Confusion Matrix for columns R and G\")\n",
        "print(confusion_matrix(y2_test, svc2_pred))\n",
        "print(\"====================================\")\n",
        "print(\"Classification_report for  columns R and G\")\n",
        "print(classification_report(y2_test, svc_pred))"
      ],
      "execution_count": null,
      "outputs": [
        {
          "output_type": "stream",
          "name": "stdout",
          "text": [
            "Confusion Matrix for columns R and G\n",
            "[[56970  1371]\n",
            " [ 1140 14037]]\n",
            "====================================\n",
            "Classification_report for  columns R and G\n",
            "              precision    recall  f1-score   support\n",
            "\n",
            "           0       1.00      1.00      1.00     58341\n",
            "           1       0.99      1.00      1.00     15177\n",
            "\n",
            "    accuracy                           1.00     73518\n",
            "   macro avg       1.00      1.00      1.00     73518\n",
            "weighted avg       1.00      1.00      1.00     73518\n",
            "\n"
          ]
        }
      ]
    },
    {
      "cell_type": "code",
      "metadata": {
        "colab": {
          "base_uri": "https://localhost:8080/"
        },
        "id": "nuMNcYl6XVO9",
        "outputId": "c8bb6fce-fc76-4bd9-b766-ec461a6c4f65"
      },
      "source": [
        "svc.fit(X3_train, y3_train)\n",
        "svc3_pred = svc.predict(X3_test)\n",
        "print(\"Confusion Matrix for columns R and B\")\n",
        "print(confusion_matrix(y3_test, svc3_pred))\n",
        "print(\"====================================\")\n",
        "print(\"Classification_report for  columns R and B\")\n",
        "print(classification_report(y3_test, svc3_pred))"
      ],
      "execution_count": null,
      "outputs": [
        {
          "output_type": "stream",
          "name": "stdout",
          "text": [
            "Confusion Matrix for columns R and B\n",
            "[[56882  1459]\n",
            " [   26 15151]]\n",
            "====================================\n",
            "Classification_report for  columns R and B\n",
            "              precision    recall  f1-score   support\n",
            "\n",
            "           0       1.00      0.97      0.99     58341\n",
            "           1       0.91      1.00      0.95     15177\n",
            "\n",
            "    accuracy                           0.98     73518\n",
            "   macro avg       0.96      0.99      0.97     73518\n",
            "weighted avg       0.98      0.98      0.98     73518\n",
            "\n"
          ]
        }
      ]
    },
    {
      "cell_type": "markdown",
      "metadata": {
        "id": "Zmpk0ybcXVO9"
      },
      "source": [
        "### Performance testing for KNN 3 neighbors with  2  predictors"
      ]
    },
    {
      "cell_type": "code",
      "metadata": {
        "colab": {
          "base_uri": "https://localhost:8080/"
        },
        "id": "8wl3LyiZXVO9",
        "outputId": "b5232898-05d7-419a-feb4-4ab2b99518b7"
      },
      "source": [
        "knn3= KNeighborsClassifier(n_neighbors= 3) \n",
        "knn3.fit(X1_train,y1_train)\n",
        "k1_pred = knn3.predict(X1_test)\n",
        "print(\"KNN Confusion Matrix for columns B and G\")\n",
        "print(confusion_matrix(y1_test, k1_pred))\n",
        "print(\"====================================\")\n",
        "print(\"KNN Classification_report for  columns B and G\")\n",
        "print(classification_report(y1_test,k1_pred))"
      ],
      "execution_count": null,
      "outputs": [
        {
          "output_type": "stream",
          "name": "stdout",
          "text": [
            "KNN Confusion Matrix for columns B and G\n",
            "[[57857   484]\n",
            " [  187 14990]]\n",
            "====================================\n",
            "KNN Classification_report for  columns B and G\n",
            "              precision    recall  f1-score   support\n",
            "\n",
            "           0       1.00      0.99      0.99     58341\n",
            "           1       0.97      0.99      0.98     15177\n",
            "\n",
            "    accuracy                           0.99     73518\n",
            "   macro avg       0.98      0.99      0.99     73518\n",
            "weighted avg       0.99      0.99      0.99     73518\n",
            "\n"
          ]
        }
      ]
    },
    {
      "cell_type": "code",
      "metadata": {
        "colab": {
          "base_uri": "https://localhost:8080/"
        },
        "id": "3qzbRYcjXVO9",
        "outputId": "4c568584-57d7-4d48-8ebb-fe990aa6db7b"
      },
      "source": [
        "knn3= KNeighborsClassifier(n_neighbors= 3) \n",
        "knn3.fit(X2_train,y2_train)\n",
        "k2_pred = knn3.predict(X2_test)\n",
        "print(\"KNN Confusion Matrix for columns R and G\")\n",
        "print(confusion_matrix(y2_test, k2_pred))\n",
        "print(\"====================================\")\n",
        "print(\"KNN Classification_report for  columns R and G\")\n",
        "print(classification_report(y2_test,k2_pred))"
      ],
      "execution_count": null,
      "outputs": [
        {
          "output_type": "stream",
          "name": "stdout",
          "text": [
            "KNN Confusion Matrix for columns R and G\n",
            "[[57148  1193]\n",
            " [  822 14355]]\n",
            "====================================\n",
            "KNN Classification_report for  columns R and G\n",
            "              precision    recall  f1-score   support\n",
            "\n",
            "           0       0.99      0.98      0.98     58341\n",
            "           1       0.92      0.95      0.93     15177\n",
            "\n",
            "    accuracy                           0.97     73518\n",
            "   macro avg       0.95      0.96      0.96     73518\n",
            "weighted avg       0.97      0.97      0.97     73518\n",
            "\n"
          ]
        }
      ]
    },
    {
      "cell_type": "code",
      "metadata": {
        "colab": {
          "base_uri": "https://localhost:8080/"
        },
        "id": "IRhdbLFAXVO-",
        "outputId": "7d4bbc64-de46-46ac-d840-ab888dc6e030"
      },
      "source": [
        "knn3= KNeighborsClassifier(n_neighbors= 3) \n",
        "knn3.fit(X3_train,y3_train)\n",
        "k3_pred = knn3.predict(X3_test)\n",
        "print(\"KNN Confusion Matrix for columns R and B\")\n",
        "print(confusion_matrix(y3_test, k3_pred))\n",
        "print(\"====================================\")\n",
        "print(\"Classification_report for  columns R and B\")\n",
        "print(classification_report(y3_test,k3_pred))"
      ],
      "execution_count": null,
      "outputs": [
        {
          "output_type": "stream",
          "name": "stdout",
          "text": [
            "KNN Confusion Matrix for columns R and B\n",
            "[[57787   554]\n",
            " [  342 14835]]\n",
            "====================================\n",
            "Classification_report for  columns R and B\n",
            "              precision    recall  f1-score   support\n",
            "\n",
            "           0       0.99      0.99      0.99     58341\n",
            "           1       0.96      0.98      0.97     15177\n",
            "\n",
            "    accuracy                           0.99     73518\n",
            "   macro avg       0.98      0.98      0.98     73518\n",
            "weighted avg       0.99      0.99      0.99     73518\n",
            "\n"
          ]
        }
      ]
    }
  ]
}